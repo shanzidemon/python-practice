{
 "cells": [
  {
   "cell_type": "code",
   "id": "initial_id",
   "metadata": {
    "collapsed": true,
    "ExecuteTime": {
     "end_time": "2025-08-15T11:01:24.802206Z",
     "start_time": "2025-08-15T11:01:24.799855Z"
    }
   },
   "source": [
    "from flake8.formatting.default import Nothing\n",
    "\n",
    "print(\"Hello shanzid\")"
   ],
   "outputs": [
    {
     "name": "stdout",
     "output_type": "stream",
     "text": [
      "Hello shanzid\n"
     ]
    }
   ],
   "execution_count": 3
  },
  {
   "metadata": {
    "ExecuteTime": {
     "end_time": "2025-08-15T11:04:01.821715Z",
     "start_time": "2025-08-15T11:04:01.818884Z"
    }
   },
   "cell_type": "code",
   "source": [
    "x=10\n",
    "y=20\n",
    "if(x>y):\n",
    "    print(\"X is the bigger Number\")\n",
    "elif(x<y):\n",
    "    print(\"Y is the bigger Number\")\n",
    "else:\n",
    "    print(\"Nothing will happen\")\n"
   ],
   "id": "4ff5e3a14e210576",
   "outputs": [
    {
     "name": "stdout",
     "output_type": "stream",
     "text": [
      "Y is the bigger Number\n"
     ]
    }
   ],
   "execution_count": 4
  },
  {
   "metadata": {},
   "cell_type": "code",
   "outputs": [],
   "execution_count": null,
   "source": "",
   "id": "6f1af9b7a64118a8"
  }
 ],
 "metadata": {
  "kernelspec": {
   "display_name": "Python [conda env:base] *",
   "language": "python",
   "name": "conda-base-py"
  },
  "language_info": {
   "codemirror_mode": {
    "name": "ipython",
    "version": 2
   },
   "file_extension": ".py",
   "mimetype": "text/x-python",
   "name": "python",
   "nbconvert_exporter": "python",
   "pygments_lexer": "ipython2",
   "version": "2.7.6"
  }
 },
 "nbformat": 4,
 "nbformat_minor": 5
}
